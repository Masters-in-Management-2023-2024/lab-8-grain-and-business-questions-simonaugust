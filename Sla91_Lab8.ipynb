{
  "cells": [
    {
      "cell_type": "markdown",
      "metadata": {
        "id": "_7NRdP-u7ZwC"
      },
      "source": [
        "# Diamond Company Analytics Challenge\n",
        "\n",
        "**Time:** 35 minutes\n",
        "\n",
        "**Scenario:** You are the new data analyst at a prestigious diamond company. The CEO has called an urgent meeting and needs answers to critical business questions about the inventory.\n",
        "\n",
        "**Your Mission:** Analyze the diamond inventory data and provide insights to guide strategic decisions."
      ]
    },
    {
      "cell_type": "code",
      "execution_count": 28,
      "metadata": {
        "colab": {
          "base_uri": "https://localhost:8080/"
        },
        "id": "HqcKEbmA7ZwC",
        "outputId": "5d5e4a12-3cb9-4851-c562-f7eaf03f011c"
      },
      "outputs": [
        {
          "output_type": "stream",
          "name": "stdout",
          "text": [
            "Loading diamonds dataset...\n",
            "Dataset loaded successfully!\n"
          ]
        }
      ],
      "source": [
        "import polars as pl\n",
        "\n",
        "# Load the diamonds dataset\n",
        "print(\"Loading diamonds dataset...\")\n",
        "df = pl.read_csv('https://raw.githubusercontent.com/pycaret/pycaret/master/datasets/diamond.csv')\n",
        "print(\"Dataset loaded successfully!\")"
      ]
    },
    {
      "cell_type": "markdown",
      "metadata": {
        "id": "VVcSjZaB7ZwD"
      },
      "source": [
        "## Section 1: Initial Inventory Assessment (5 minutes)\n",
        "\n",
        "The CEO walks in: \"Before we dive into specifics, I need to understand what we're working with. Give me the basics about our inventory database.\""
      ]
    },
    {
      "cell_type": "markdown",
      "metadata": {
        "id": "XknKgitF7ZwD"
      },
      "source": [
        "### Question 1: \"How extensive is our inventory database?\"\n",
        "\n",
        "The CEO needs to know the scale of data you're analyzing."
      ]
    },
    {
      "cell_type": "code",
      "execution_count": 5,
      "metadata": {
        "colab": {
          "base_uri": "https://localhost:8080/"
        },
        "id": "W8p3hNaQ7ZwD",
        "outputId": "09847a9c-5f05-4139-e742-6e536825cbdc"
      },
      "outputs": [
        {
          "output_type": "stream",
          "name": "stdout",
          "text": [
            "Our inventory has 6,000 diamonds that are described across 8 key characteristics.\n"
          ]
        }
      ],
      "source": [
        "number_rows, number_cols = df.shape\n",
        "print(f\"Our inventory has {number_rows:,} diamonds that are described across {number_cols} key characteristics.\")"
      ]
    },
    {
      "cell_type": "markdown",
      "metadata": {
        "id": "gGoRBUoJ7ZwD"
      },
      "source": [
        "### Question 2: \"What information do we track about each diamond?\"\n",
        "\n",
        "List all the characteristics we record."
      ]
    },
    {
      "cell_type": "code",
      "execution_count": 6,
      "metadata": {
        "colab": {
          "base_uri": "https://localhost:8080/"
        },
        "id": "H9EMG1VS7ZwD",
        "outputId": "0be94065-da97-4d34-d542-919b41b3f471"
      },
      "outputs": [
        {
          "output_type": "stream",
          "name": "stdout",
          "text": [
            "We track the following characteristics:\n",
            "['Carat Weight', 'Cut', 'Color', 'Clarity', 'Polish', 'Symmetry', 'Report', 'Price']\n"
          ]
        }
      ],
      "source": [
        "print(\"We track the following characteristics:\")\n",
        "print(df.columns)"
      ]
    },
    {
      "cell_type": "markdown",
      "metadata": {
        "id": "dNJk2ioR7ZwD"
      },
      "source": [
        "### Question 3: \"When I look at one line in this database, what am I looking at?\"\n",
        "\n",
        "Explain in business terms:"
      ]
    },
    {
      "cell_type": "markdown",
      "metadata": {
        "id": "IRkHoA4X7ZwD"
      },
      "source": [
        "**Your answer:** Each row represents: One diamond"
      ]
    },
    {
      "cell_type": "markdown",
      "metadata": {
        "id": "exgxcT227ZwD"
      },
      "source": [
        "## Section 2: Strategic Business Questions (20 minutes)\n",
        "\n",
        "The CEO continues: \"Now let's get to the important questions. Our board meeting is tomorrow and I need concrete numbers.\""
      ]
    },
    {
      "cell_type": "markdown",
      "metadata": {
        "id": "HW2n3pep7ZwD"
      },
      "source": [
        "### Question 4: \"We're considering expanding our storage facilities. How many total carats do we have in inventory? I need to know if our vaults can handle the weight.\"\n",
        "\n",
        "Think about what measurement would help answer this."
      ]
    },
    {
      "cell_type": "code",
      "execution_count": 61,
      "metadata": {
        "colab": {
          "base_uri": "https://localhost:8080/"
        },
        "id": "-8TwCaZx7ZwD",
        "outputId": "eb7f608b-85b1-4ea0-ff9e-674cd82a6ddb"
      },
      "outputs": [
        {
          "output_type": "stream",
          "name": "stdout",
          "text": [
            "Our total inventory of diamonds weighs 8,007.12 carats.\n"
          ]
        }
      ],
      "source": [
        "total_carats = df.select(pl.col(carat_col).sum()).item()\n",
        "\n",
        "print(f\"Our total inventory of diamonds weighs {total_carats:,.2f} carats.\")\n"
      ]
    },
    {
      "cell_type": "markdown",
      "metadata": {
        "id": "wxJBeyES7ZwD"
      },
      "source": [
        "### Question 5: \"Our new marketing campaign claims we have 'the widest variety of cuts in the industry.' Can you verify this?\"\n",
        "\n",
        "The CEO wants to know about variety, not quantity."
      ]
    },
    {
      "cell_type": "code",
      "execution_count": 60,
      "metadata": {
        "colab": {
          "base_uri": "https://localhost:8080/"
        },
        "id": "41uZVdsc7ZwE",
        "outputId": "e7d40f92-3be5-494e-86d8-3307e77a8c7c"
      },
      "outputs": [
        {
          "output_type": "stream",
          "name": "stdout",
          "text": [
            "shape: (5, 1)\n",
            "┌─────────────────┐\n",
            "│ Cut             │\n",
            "│ ---             │\n",
            "│ str             │\n",
            "╞═════════════════╡\n",
            "│ Fair            │\n",
            "│ Good            │\n",
            "│ Ideal           │\n",
            "│ Signature-Ideal │\n",
            "│ Very Good       │\n",
            "└─────────────────┘\n",
            "We have five different cuts.\n"
          ]
        }
      ],
      "source": [
        "cut_variety = df.select(pl.col(\"Cut\").unique().sort())\n",
        "\n",
        "print(cut_variety)\n",
        "print(\"We have five different cuts.\")"
      ]
    },
    {
      "cell_type": "markdown",
      "metadata": {
        "id": "ex9xgjFm7ZwE"
      },
      "source": [
        "### Question 6: \"I'm meeting with our insurance company. They need to know our price exposure - what's our most and least valuable diamond?\""
      ]
    },
    {
      "cell_type": "code",
      "execution_count": 52,
      "metadata": {
        "colab": {
          "base_uri": "https://localhost:8080/"
        },
        "id": "A31AkgqE7ZwE",
        "outputId": "90587ccc-4726-4e46-f724-c746090cb201"
      },
      "outputs": [
        {
          "output_type": "stream",
          "name": "stdout",
          "text": [
            "The most valuable diamond is: $101,561.00\n",
            "The least valuable diamond is: $2,184.00\n"
          ]
        }
      ],
      "source": [
        "max_price = df.select(pl.col(\"Price\").max()).item()\n",
        "print(f\"The most valuable diamond is: ${max_price:,.2f}\")\n",
        "\n",
        "min_price = df.select(pl.col(\"Price\").min()).item()\n",
        "print(f\"The least valuable diamond is: ${min_price:,.2f}\")"
      ]
    },
    {
      "cell_type": "markdown",
      "metadata": {
        "id": "CQ8GZNzS7ZwE"
      },
      "source": [
        "### Question 7: \"Which color grades should we focus on in our premium line? I need typical prices across our color spectrum.\"\n",
        "\n",
        "The CEO wants to understand pricing patterns."
      ]
    },
    {
      "cell_type": "code",
      "execution_count": 26,
      "metadata": {
        "colab": {
          "base_uri": "https://localhost:8080/"
        },
        "id": "mxjPohp57ZwE",
        "outputId": "e7dae66d-db0c-476f-9592-8fd97c86492d"
      },
      "outputs": [
        {
          "output_type": "stream",
          "name": "stdout",
          "text": [
            "shape: (6, 3)\n",
            "┌───────┬──────────────┬──────────────┐\n",
            "│ Color ┆ avg_price    ┆ median_price │\n",
            "│ ---   ┆ ---          ┆ ---          │\n",
            "│ str   ┆ f64          ┆ f64          │\n",
            "╞═══════╪══════════════╪══════════════╡\n",
            "│ F     ┆ 12712.241856 ┆ 8860.0       │\n",
            "│ G     ┆ 12520.050633 ┆ 8800.0       │\n",
            "│ D     ┆ 15255.783661 ┆ 7567.0       │\n",
            "│ H     ┆ 10487.347544 ┆ 7169.0       │\n",
            "│ E     ┆ 11539.190231 ┆ 7059.5       │\n",
            "│ I     ┆ 8989.636364  ┆ 6655.0       │\n",
            "└───────┴──────────────┴──────────────┘\n",
            "We should focus on the F,G, and D color grades as they have the highest average and median prices.\n"
          ]
        }
      ],
      "source": [
        "typical_prices_by_color = (\n",
        "    df.group_by(\"Color\")\n",
        "      .agg([\n",
        "          pl.col(\"Price\").mean().alias(\"avg_price\"),\n",
        "          pl.col(\"Price\").median().alias(\"median_price\")\n",
        "      ])\n",
        "      .sort(\"median_price\", descending=True))\n",
        "\n",
        "print(typical_prices_by_color)\n",
        "print(\"We should focus on the F,G, and D color grades as they have the highest average and median prices.\")"
      ]
    },
    {
      "cell_type": "markdown",
      "metadata": {
        "id": "bWWyA8pz7ZwE"
      },
      "source": [
        "**Reflection:** After analyzing by color, how has your view of the data changed? What does each row in your result represent now?"
      ]
    },
    {
      "cell_type": "markdown",
      "metadata": {
        "id": "KATHlX8-7ZwE"
      },
      "source": [
        "**Your answer:** New grain = Color"
      ]
    },
    {
      "cell_type": "markdown",
      "metadata": {
        "id": "aouWOlNV7ZwE"
      },
      "source": [
        "## Section 3: Advanced Strategic Analysis (10 minutes)\n",
        "\n",
        "The CEO leans forward: \"These next questions will shape our strategy for next year.\""
      ]
    },
    {
      "cell_type": "markdown",
      "metadata": {
        "id": "Oi3pyd6c7ZwG"
      },
      "source": [
        "### Question 8: \"We're thinking of specializing in certain clarity grades. For our investor deck, I need a complete breakdown showing: how many diamonds we have in each clarity grade, their typical price, and the total carats we're holding for each grade.\""
      ]
    },
    {
      "cell_type": "code",
      "execution_count": 51,
      "metadata": {
        "colab": {
          "base_uri": "https://localhost:8080/"
        },
        "id": "xLpPPBTe7ZwG",
        "outputId": "806bc925-2a91-44e7-d254-7ce3ca5862b3"
      },
      "outputs": [
        {
          "output_type": "stream",
          "name": "stdout",
          "text": [
            "shape: (7, 5)\n",
            "┌─────────┬────────────────────┬───────────────┬──────────────┬──────────────┐\n",
            "│ Clarity ┆ Number of Diamonds ┆ Average Price ┆ Median price ┆ Total Carats │\n",
            "│ ---     ┆ ---                ┆ ---           ┆ ---          ┆ ---          │\n",
            "│ str     ┆ u32                ┆ f64           ┆ f64          ┆ f64          │\n",
            "╞═════════╪════════════════════╪═══════════════╪══════════════╪══════════════╡\n",
            "│ FL      ┆ 4                  ┆ 63776.0       ┆ 62371.5      ┆ 7.87         │\n",
            "│ IF      ┆ 219                ┆ 22105.844749  ┆ 12647.0      ┆ 316.0        │\n",
            "│ SI1     ┆ 2059               ┆ 8018.864012   ┆ 5417.0       ┆ 2563.69      │\n",
            "│ VS1     ┆ 1192               ┆ 13694.113255  ┆ 9245.0       ┆ 1682.74      │\n",
            "│ VS2     ┆ 1575               ┆ 11809.053333  ┆ 7568.0       ┆ 2170.81      │\n",
            "│ VVS1    ┆ 285                ┆ 16845.680702  ┆ 11142.0      ┆ 389.43       │\n",
            "│ VVS2    ┆ 666                ┆ 14142.177177  ┆ 10266.0      ┆ 876.58       │\n",
            "└─────────┴────────────────────┴───────────────┴──────────────┴──────────────┘\n",
            "Here is the breakdown showing how many diamonds we have in each clarity grade, their typical price, and the total carats we're holding for each grade.\n"
          ]
        }
      ],
      "source": [
        "clarity_analysis = (df.group_by(\"Clarity\")\n",
        "      .agg([\n",
        "          pl.len().alias(\"Number of Diamonds\"),\n",
        "          pl.col(\"Price\").mean().alias(\"Average Price\"),\n",
        "          pl.col(\"Price\").median().alias(\"Median price\"),\n",
        "          pl.col(\"Carat Weight\").sum().alias(\"Total Carats\")])\n",
        "      .sort(\"Clarity\"))\n",
        "\n",
        "print(clarity_analysis)\n",
        "print(\"Here is the breakdown showing how many diamonds we have in each clarity grade, their typical price, and the total carats we're holding for each grade.\")"
      ]
    },
    {
      "cell_type": "markdown",
      "metadata": {
        "id": "RAuG63g57ZwG"
      },
      "source": [
        "### Question 9: \"My luxury competitor claims they have the best prices for every cut-color combination. Show me our pricing structure across these combinations - I want to see where we're competitive.\""
      ]
    },
    {
      "cell_type": "code",
      "execution_count": 48,
      "metadata": {
        "colab": {
          "base_uri": "https://localhost:8080/"
        },
        "id": "pyPsauDz7ZwG",
        "outputId": "3c364b0b-5d05-48b7-efdb-d7b745fd9964"
      },
      "outputs": [
        {
          "output_type": "stream",
          "name": "stdout",
          "text": [
            "shape: (30, 4)\n",
            "┌───────────┬───────┬──────────────┬──────────────┐\n",
            "│ Cut       ┆ Color ┆ avg_price    ┆ median_price │\n",
            "│ ---       ┆ ---   ┆ ---          ┆ ---          │\n",
            "│ str       ┆ str   ┆ f64          ┆ f64          │\n",
            "╞═══════════╪═══════╪══════════════╪══════════════╡\n",
            "│ Fair      ┆ D     ┆ 6058.25      ┆ 5040.0       │\n",
            "│ Fair      ┆ E     ┆ 5370.625     ┆ 4908.5       │\n",
            "│ Fair      ┆ F     ┆ 6063.625     ┆ 4628.0       │\n",
            "│ Fair      ┆ G     ┆ 7345.52381   ┆ 4646.0       │\n",
            "│ Fair      ┆ H     ┆ 5908.5       ┆ 4358.0       │\n",
            "│ …         ┆ …     ┆ …            ┆ …            │\n",
            "│ Very Good ┆ E     ┆ 12101.910217 ┆ 6703.0       │\n",
            "│ Very Good ┆ F     ┆ 12413.905495 ┆ 8330.0       │\n",
            "│ Very Good ┆ G     ┆ 12354.013841 ┆ 8249.0       │\n",
            "│ Very Good ┆ H     ┆ 10056.106132 ┆ 6564.0       │\n",
            "│ Very Good ┆ I     ┆ 8930.031332  ┆ 6684.0       │\n",
            "└───────────┴───────┴──────────────┴──────────────┘\n"
          ]
        }
      ],
      "source": [
        "cut_color_prices = (df\n",
        "    .group_by([\"Cut\", \"Color\"])\n",
        "    .agg([\n",
        "        pl.col(\"Price\").mean().alias(\"avg_price\"),\n",
        "        pl.col(\"Price\").median().alias(\"median_price\")])\n",
        "    .sort([\"Cut\", \"Color\"]))\n",
        "\n",
        "print(cut_color_prices)"
      ]
    },
    {
      "cell_type": "markdown",
      "metadata": {
        "id": "ir4F4R0p7ZwG"
      },
      "source": [
        "**Reflection:** How specific is your analysis now? What level of detail does each row represent?"
      ]
    },
    {
      "cell_type": "markdown",
      "metadata": {
        "id": "YLDnE8uB7ZwG"
      },
      "source": [
        "**Your answer:** New grain = Cut and Color"
      ]
    },
    {
      "cell_type": "markdown",
      "metadata": {
        "id": "qZ6F08Tk7ZwG"
      },
      "source": [
        "### Question 10: URGENT - \"Our biggest client is interested in purchasing entire inventory segments. They asked: 'Which color-cut combinations represent your highest total inventory value?' Show me the top 5 most valuable inventory segments by total worth, and include how many diamonds are in each segment.\"\n",
        "\n",
        "This is critical for tomorrow's negotiation."
      ]
    },
    {
      "cell_type": "code",
      "execution_count": 47,
      "metadata": {
        "colab": {
          "base_uri": "https://localhost:8080/",
          "height": 252
        },
        "id": "0JYje0DX7ZwG",
        "outputId": "58464920-51f4-4edf-894f-e258dbdb2411"
      },
      "outputs": [
        {
          "output_type": "execute_result",
          "data": {
            "text/plain": [
              "shape: (5, 4)\n",
              "┌───────────┬───────┬─────────────┬───────────────┐\n",
              "│ Cut       ┆ Color ┆ Total Value ┆ Diamond Count │\n",
              "│ ---       ┆ ---   ┆ ---         ┆ ---           │\n",
              "│ str       ┆ str   ┆ i64         ┆ u32           │\n",
              "╞═══════════╪═══════╪═════════════╪═══════════════╡\n",
              "│ Ideal     ┆ G     ┆ 9363514     ┆ 690           │\n",
              "│ Very Good ┆ G     ┆ 7140620     ┆ 578           │\n",
              "│ Very Good ┆ F     ┆ 5648327     ┆ 455           │\n",
              "│ Ideal     ┆ F     ┆ 5346782     ┆ 363           │\n",
              "│ Ideal     ┆ H     ┆ 5279687     ┆ 458           │\n",
              "└───────────┴───────┴─────────────┴───────────────┘"
            ],
            "text/html": [
              "<div><style>\n",
              ".dataframe > thead > tr,\n",
              ".dataframe > tbody > tr {\n",
              "  text-align: right;\n",
              "  white-space: pre-wrap;\n",
              "}\n",
              "</style>\n",
              "<small>shape: (5, 4)</small><table border=\"1\" class=\"dataframe\"><thead><tr><th>Cut</th><th>Color</th><th>Total Value</th><th>Diamond Count</th></tr><tr><td>str</td><td>str</td><td>i64</td><td>u32</td></tr></thead><tbody><tr><td>&quot;Ideal&quot;</td><td>&quot;G&quot;</td><td>9363514</td><td>690</td></tr><tr><td>&quot;Very Good&quot;</td><td>&quot;G&quot;</td><td>7140620</td><td>578</td></tr><tr><td>&quot;Very Good&quot;</td><td>&quot;F&quot;</td><td>5648327</td><td>455</td></tr><tr><td>&quot;Ideal&quot;</td><td>&quot;F&quot;</td><td>5346782</td><td>363</td></tr><tr><td>&quot;Ideal&quot;</td><td>&quot;H&quot;</td><td>5279687</td><td>458</td></tr></tbody></table></div>"
            ]
          },
          "metadata": {},
          "execution_count": 47
        }
      ],
      "source": [
        "most_valuable_segments = (df\n",
        "    .group_by([\"Cut\", \"Color\"])\n",
        "    .agg([\n",
        "        pl.col(\"Price\").sum().alias(\"Total Value\"),\n",
        "        pl.len().alias(\"Diamond Count\")])\n",
        "    .sort(\"Total Value\", descending=True)\n",
        "    .head(5))\n",
        "\n",
        "most_valuable_segments"
      ]
    },
    {
      "cell_type": "markdown",
      "metadata": {
        "id": "TOdHn72A7ZwG"
      },
      "source": [
        "## Debrief\n",
        "\n",
        "Congratulations! You've just completed your first day as the diamond company's data analyst.\n",
        "\n",
        "Remember:\n",
        "- CEOs speak in business language, not technical terms\n",
        "- Always understand what each row represents before analyzing\n",
        "- Business questions contain clues about which operations to use"
      ]
    }
  ],
  "metadata": {
    "kernelspec": {
      "display_name": "Python 3",
      "language": "python",
      "name": "python3"
    },
    "language_info": {
      "codemirror_mode": {
        "name": "ipython",
        "version": 3
      },
      "file_extension": ".py",
      "mimetype": "text/x-python",
      "name": "python",
      "nbconvert_exporter": "python",
      "pygments_lexer": "ipython3",
      "version": "3.12.0"
    },
    "colab": {
      "provenance": []
    }
  },
  "nbformat": 4,
  "nbformat_minor": 0
}